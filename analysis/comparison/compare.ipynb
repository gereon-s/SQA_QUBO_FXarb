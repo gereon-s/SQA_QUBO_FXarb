{
 "cells": [
  {
   "cell_type": "code",
   "execution_count": null,
   "id": "43627aa6",
   "metadata": {},
   "outputs": [
    {
     "name": "stdout",
     "output_type": "stream",
     "text": [
      "                             Welch t-stat        p-value  Cohen's d\n",
      "April - Profit %                -6.677064   4.419881e-11  -0.382461\n",
      "Standardized - Profit %         -5.052119   5.926432e-07  -0.394420\n",
      "April - Runtime (s)           -108.363936   0.000000e+00  -4.804205\n",
      "Standardized - Runtime (s)     -81.502437  1.863451e-227  -5.577363\n",
      "April - Cycle Length           -13.659535   5.797840e-37  -0.919621\n",
      "Standardized - Cycle Length     -7.254555   1.463112e-12  -0.599347\n"
     ]
    }
   ],
   "source": [
    "import pandas as pd\n",
    "import numpy as np\n",
    "from scipy.stats import ttest_ind\n",
    "\n",
    "# Load data\n",
    "bf_april = pd.read_csv(\"../../oos_test_april/output/bf_results_april.csv\")\n",
    "sqa_april = pd.read_csv(\"../../oos_test_april/output/sqa_results_april.csv\")\n",
    "bf_std = pd.read_csv(\"../../oos_test_march/output/bf_results_march.csv\")\n",
    "sqa_std = pd.read_csv('../../oos_test_march/output/sqa_results_march.csv')\n",
    "\n",
    "# Welch’s t-test function\n",
    "def welch_ttest(df1, df2, column):\n",
    "    return ttest_ind(df1[column], df2[column], equal_var=False)\n",
    "\n",
    "# Cohen's d function for unequal sample sizes\n",
    "def cohens_d(x1, x2):\n",
    "    n1, n2 = len(x1), len(x2)\n",
    "    s1, s2 = np.var(x1, ddof=1), np.var(x2, ddof=1)\n",
    "    pooled_sd = np.sqrt(((n1 - 1)*s1 + (n2 - 1)*s2) / (n1 + n2 - 2))\n",
    "    return (np.mean(x1) - np.mean(x2)) / pooled_sd\n",
    "\n",
    "# Columns to compare\n",
    "columns = [\"profit_pct\", \"step_runtime_sec\", \"cycle_length\"]\n",
    "labels = [\"Profit %\", \"Runtime (s)\", \"Cycle Length\"]\n",
    "\n",
    "# Perform Welch's t-test and Cohen's d\n",
    "results = {}\n",
    "for col, label in zip(columns, labels):\n",
    "    results[f\"April - {label}\"] = {\n",
    "        \"Welch t-stat\": welch_ttest(bf_april, sqa_april, col).statistic,\n",
    "        \"p-value\": welch_ttest(bf_april, sqa_april, col).pvalue,\n",
    "        \"Cohen's d\": cohens_d(bf_april[col], sqa_april[col])\n",
    "    }\n",
    "    results[f\"Standardized - {label}\"] = {\n",
    "        \"Welch t-stat\": welch_ttest(bf_std, sqa_std, col).statistic,\n",
    "        \"p-value\": welch_ttest(bf_std, sqa_std, col).pvalue,\n",
    "        \"Cohen's d\": cohens_d(bf_std[col], sqa_std[col])\n",
    "    }\n",
    "\n",
    "# Display results\n",
    "import pandas as pd\n",
    "results_df = pd.DataFrame(results).T\n",
    "print(results_df)\n"
   ]
  }
 ],
 "metadata": {
  "kernelspec": {
   "display_name": "Python 3",
   "language": "python",
   "name": "python3"
  },
  "language_info": {
   "codemirror_mode": {
    "name": "ipython",
    "version": 3
   },
   "file_extension": ".py",
   "mimetype": "text/x-python",
   "name": "python",
   "nbconvert_exporter": "python",
   "pygments_lexer": "ipython3",
   "version": "3.10.11"
  }
 },
 "nbformat": 4,
 "nbformat_minor": 5
}
